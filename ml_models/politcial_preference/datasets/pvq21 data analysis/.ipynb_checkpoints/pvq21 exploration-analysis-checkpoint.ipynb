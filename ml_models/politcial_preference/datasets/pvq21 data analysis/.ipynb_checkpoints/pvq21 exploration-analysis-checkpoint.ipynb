{
 "cells": [
  {
   "cell_type": "code",
   "execution_count": 2,
   "metadata": {},
   "outputs": [],
   "source": [
    "import pandas as pd \n",
    "import seaborn as sns\n",
    "import matplotlib.pyplot as plt"
   ]
  },
  {
   "cell_type": "code",
   "execution_count": 3,
   "metadata": {},
   "outputs": [],
   "source": [
    "pvq = pd.read_csv('ESS8MDHe02.1_F1.csv')"
   ]
  },
  {
   "cell_type": "code",
   "execution_count": 4,
   "metadata": {},
   "outputs": [
    {
     "name": "stdout",
     "output_type": "stream",
     "text": [
      "Length: 44387 \n",
      "Shape: (44387, 30)\n"
     ]
    }
   ],
   "source": [
    "length = len(pvq)\n",
    "shape = pvq.shape\n",
    "\n",
    "print(f\"Length: {length} \\nShape: {shape}\")"
   ]
  },
  {
   "cell_type": "code",
   "execution_count": 5,
   "metadata": {},
   "outputs": [
    {
     "data": {
      "text/html": [
       "<div>\n",
       "<style scoped>\n",
       "    .dataframe tbody tr th:only-of-type {\n",
       "        vertical-align: middle;\n",
       "    }\n",
       "\n",
       "    .dataframe tbody tr th {\n",
       "        vertical-align: top;\n",
       "    }\n",
       "\n",
       "    .dataframe thead th {\n",
       "        text-align: right;\n",
       "    }\n",
       "</style>\n",
       "<table border=\"1\" class=\"dataframe\">\n",
       "  <thead>\n",
       "    <tr style=\"text-align: right;\">\n",
       "      <th></th>\n",
       "      <th>ess8_id</th>\n",
       "      <th>cntry</th>\n",
       "      <th>ess8_reg</th>\n",
       "      <th>nuts1</th>\n",
       "      <th>nuts2</th>\n",
       "      <th>nuts3</th>\n",
       "      <th>lrscale</th>\n",
       "      <th>rlgdgr</th>\n",
       "      <th>ipcrtiv</th>\n",
       "      <th>imprich</th>\n",
       "      <th>ipeqopt</th>\n",
       "      <th>ipshabt</th>\n",
       "      <th>impsafe</th>\n",
       "      <th>impdiff</th>\n",
       "      <th>ipfrule</th>\n",
       "      <th>ipudrst</th>\n",
       "      <th>ipmodst</th>\n",
       "      <th>ipgdtim</th>\n",
       "      <th>impfree</th>\n",
       "      <th>iphlppl</th>\n",
       "      <th>ipsuces</th>\n",
       "      <th>ipstrgv</th>\n",
       "      <th>ipadvnt</th>\n",
       "      <th>ipbhprp</th>\n",
       "      <th>iprspot</th>\n",
       "      <th>iplylfr</th>\n",
       "      <th>impenv</th>\n",
       "      <th>imptrad</th>\n",
       "      <th>impfun</th>\n",
       "      <th>Unnamed: 29</th>\n",
       "    </tr>\n",
       "  </thead>\n",
       "  <tbody>\n",
       "    <tr>\n",
       "      <th>0</th>\n",
       "      <td>AT000000001</td>\n",
       "      <td>AT</td>\n",
       "      <td>AT13</td>\n",
       "      <td>AT1</td>\n",
       "      <td>AT13</td>\n",
       "      <td>NaN</td>\n",
       "      <td>0</td>\n",
       "      <td>0</td>\n",
       "      <td>2</td>\n",
       "      <td>6</td>\n",
       "      <td>1</td>\n",
       "      <td>2</td>\n",
       "      <td>2</td>\n",
       "      <td>3</td>\n",
       "      <td>5</td>\n",
       "      <td>1</td>\n",
       "      <td>2</td>\n",
       "      <td>4</td>\n",
       "      <td>3</td>\n",
       "      <td>1</td>\n",
       "      <td>2</td>\n",
       "      <td>6</td>\n",
       "      <td>3</td>\n",
       "      <td>6</td>\n",
       "      <td>1</td>\n",
       "      <td>1</td>\n",
       "      <td>1</td>\n",
       "      <td>6</td>\n",
       "      <td>3</td>\n",
       "      <td>NaN</td>\n",
       "    </tr>\n",
       "    <tr>\n",
       "      <th>1</th>\n",
       "      <td>AT000000002</td>\n",
       "      <td>AT</td>\n",
       "      <td>AT13</td>\n",
       "      <td>AT1</td>\n",
       "      <td>AT13</td>\n",
       "      <td>NaN</td>\n",
       "      <td>1</td>\n",
       "      <td>0</td>\n",
       "      <td>3</td>\n",
       "      <td>6</td>\n",
       "      <td>2</td>\n",
       "      <td>3</td>\n",
       "      <td>5</td>\n",
       "      <td>3</td>\n",
       "      <td>5</td>\n",
       "      <td>3</td>\n",
       "      <td>4</td>\n",
       "      <td>3</td>\n",
       "      <td>2</td>\n",
       "      <td>3</td>\n",
       "      <td>3</td>\n",
       "      <td>4</td>\n",
       "      <td>5</td>\n",
       "      <td>5</td>\n",
       "      <td>2</td>\n",
       "      <td>2</td>\n",
       "      <td>2</td>\n",
       "      <td>5</td>\n",
       "      <td>5</td>\n",
       "      <td>NaN</td>\n",
       "    </tr>\n",
       "    <tr>\n",
       "      <th>2</th>\n",
       "      <td>AT000000004</td>\n",
       "      <td>AT</td>\n",
       "      <td>AT31</td>\n",
       "      <td>AT3</td>\n",
       "      <td>AT31</td>\n",
       "      <td>NaN</td>\n",
       "      <td>5</td>\n",
       "      <td>6</td>\n",
       "      <td>3</td>\n",
       "      <td>5</td>\n",
       "      <td>2</td>\n",
       "      <td>4</td>\n",
       "      <td>1</td>\n",
       "      <td>6</td>\n",
       "      <td>5</td>\n",
       "      <td>2</td>\n",
       "      <td>3</td>\n",
       "      <td>2</td>\n",
       "      <td>2</td>\n",
       "      <td>3</td>\n",
       "      <td>6</td>\n",
       "      <td>1</td>\n",
       "      <td>6</td>\n",
       "      <td>3</td>\n",
       "      <td>3</td>\n",
       "      <td>1</td>\n",
       "      <td>2</td>\n",
       "      <td>2</td>\n",
       "      <td>3</td>\n",
       "      <td>NaN</td>\n",
       "    </tr>\n",
       "    <tr>\n",
       "      <th>3</th>\n",
       "      <td>AT000000006</td>\n",
       "      <td>AT</td>\n",
       "      <td>AT13</td>\n",
       "      <td>AT1</td>\n",
       "      <td>AT13</td>\n",
       "      <td>NaN</td>\n",
       "      <td>0</td>\n",
       "      <td>7</td>\n",
       "      <td>2</td>\n",
       "      <td>3</td>\n",
       "      <td>2</td>\n",
       "      <td>2</td>\n",
       "      <td>2</td>\n",
       "      <td>3</td>\n",
       "      <td>3</td>\n",
       "      <td>2</td>\n",
       "      <td>2</td>\n",
       "      <td>2</td>\n",
       "      <td>2</td>\n",
       "      <td>3</td>\n",
       "      <td>3</td>\n",
       "      <td>2</td>\n",
       "      <td>3</td>\n",
       "      <td>4</td>\n",
       "      <td>2</td>\n",
       "      <td>2</td>\n",
       "      <td>3</td>\n",
       "      <td>2</td>\n",
       "      <td>2</td>\n",
       "      <td>NaN</td>\n",
       "    </tr>\n",
       "    <tr>\n",
       "      <th>4</th>\n",
       "      <td>AT000000010</td>\n",
       "      <td>AT</td>\n",
       "      <td>AT22</td>\n",
       "      <td>AT2</td>\n",
       "      <td>AT22</td>\n",
       "      <td>NaN</td>\n",
       "      <td>5</td>\n",
       "      <td>10</td>\n",
       "      <td>3</td>\n",
       "      <td>4</td>\n",
       "      <td>1</td>\n",
       "      <td>4</td>\n",
       "      <td>3</td>\n",
       "      <td>3</td>\n",
       "      <td>5</td>\n",
       "      <td>3</td>\n",
       "      <td>1</td>\n",
       "      <td>1</td>\n",
       "      <td>1</td>\n",
       "      <td>1</td>\n",
       "      <td>3</td>\n",
       "      <td>4</td>\n",
       "      <td>5</td>\n",
       "      <td>2</td>\n",
       "      <td>3</td>\n",
       "      <td>1</td>\n",
       "      <td>1</td>\n",
       "      <td>4</td>\n",
       "      <td>1</td>\n",
       "      <td>NaN</td>\n",
       "    </tr>\n",
       "  </tbody>\n",
       "</table>\n",
       "</div>"
      ],
      "text/plain": [
       "       ess8_id cntry ess8_reg nuts1 nuts2 nuts3  lrscale  rlgdgr  ipcrtiv  \\\n",
       "0  AT000000001    AT     AT13   AT1  AT13   NaN        0       0        2   \n",
       "1  AT000000002    AT     AT13   AT1  AT13   NaN        1       0        3   \n",
       "2  AT000000004    AT     AT31   AT3  AT31   NaN        5       6        3   \n",
       "3  AT000000006    AT     AT13   AT1  AT13   NaN        0       7        2   \n",
       "4  AT000000010    AT     AT22   AT2  AT22   NaN        5      10        3   \n",
       "\n",
       "   imprich  ipeqopt  ipshabt  impsafe  impdiff  ipfrule  ipudrst  ipmodst  \\\n",
       "0        6        1        2        2        3        5        1        2   \n",
       "1        6        2        3        5        3        5        3        4   \n",
       "2        5        2        4        1        6        5        2        3   \n",
       "3        3        2        2        2        3        3        2        2   \n",
       "4        4        1        4        3        3        5        3        1   \n",
       "\n",
       "   ipgdtim  impfree  iphlppl  ipsuces  ipstrgv  ipadvnt  ipbhprp  iprspot  \\\n",
       "0        4        3        1        2        6        3        6        1   \n",
       "1        3        2        3        3        4        5        5        2   \n",
       "2        2        2        3        6        1        6        3        3   \n",
       "3        2        2        3        3        2        3        4        2   \n",
       "4        1        1        1        3        4        5        2        3   \n",
       "\n",
       "   iplylfr  impenv  imptrad  impfun  Unnamed: 29  \n",
       "0        1       1        6       3          NaN  \n",
       "1        2       2        5       5          NaN  \n",
       "2        1       2        2       3          NaN  \n",
       "3        2       3        2       2          NaN  \n",
       "4        1       1        4       1          NaN  "
      ]
     },
     "execution_count": 5,
     "metadata": {},
     "output_type": "execute_result"
    }
   ],
   "source": [
    "pd.set_option('display.max_columns', None)\n",
    "\n",
    "pvq.head()"
   ]
  },
  {
   "cell_type": "code",
   "execution_count": 6,
   "metadata": {},
   "outputs": [],
   "source": [
    "pvq_imp_columns = pvq.copy()"
   ]
  },
  {
   "cell_type": "markdown",
   "metadata": {},
   "source": [
    "# ToDo: \n",
    "- [x] remove data on religiousness attribute (i.e. rlgdgr)& other random columns\n",
    "- [x] create a \"mapping\" list (of questions to values) from which the average will be derived. To identify mapping look at [the relevant paper](https://www.europeansocialsurvey.org/docs/methodology/core_ess_questionnaire/ESS_core_questionnaire_human_values.pdf) on page 284\n",
    "- [x] plot a distribution of the political-preference attribute (lrscale) to identify any biases in the data (or just skewed data)\n",
    "    - I could then split it into different data sets etc...\n",
    "- [ ] return whatever yields higher accuracy and lower error"
   ]
  },
  {
   "cell_type": "markdown",
   "metadata": {},
   "source": [
    "### Removing irrelevant columns & false responses"
   ]
  },
  {
   "cell_type": "code",
   "execution_count": 7,
   "metadata": {},
   "outputs": [],
   "source": [
    "pvq_imp_columns.drop(['ess8_id', 'cntry', 'ess8_reg','nuts1', 'nuts2','nuts3', 'rlgdgr','Unnamed: 29'], inplace=True, axis=1)\n",
    "\n"
   ]
  },
  {
   "cell_type": "code",
   "execution_count": 8,
   "metadata": {},
   "outputs": [
    {
     "data": {
      "text/plain": [
       "(44387, 22)"
      ]
     },
     "execution_count": 8,
     "metadata": {},
     "output_type": "execute_result"
    }
   ],
   "source": [
    "pvq_imp_columns.shape"
   ]
  },
  {
   "cell_type": "markdown",
   "metadata": {},
   "source": [
    "Counting the false responses for each of the relevant columns"
   ]
  },
  {
   "cell_type": "code",
   "execution_count": 9,
   "metadata": {},
   "outputs": [
    {
     "name": "stdout",
     "output_type": "stream",
     "text": [
      "lrscale: (5804, 30)\n",
      "ipcrtiv: (847, 30)\n",
      "imprich: (793, 30)\n",
      "ipeqopt: (820, 30)\n",
      "ipshabt: (896, 30)\n",
      "impsafe: (746, 30)\n",
      "impdiff: (825, 30)\n",
      "ipfrule: (1021, 30)\n",
      "ipudrst: (882, 30)\n",
      "ipmodst: (858, 30)\n",
      "ipgdtim: (816, 30)\n",
      "impfree: (796, 30)\n",
      "iphlppl: (801, 30)\n",
      "ipsuces: (928, 30)\n",
      "ipstrgv: (1002, 30)\n",
      "ipadvnt: (839, 30)\n",
      "ipbhprp: (876, 30)\n",
      "iprspot: (1002, 30)\n",
      "iplylfr: (777, 30)\n",
      "impenv: (759, 30)\n",
      "imptrad: (754, 30)\n",
      "impfun: (824, 30)\n"
     ]
    }
   ],
   "source": [
    "for column in pvq_imp_columns:\n",
    "    if column == \"lrscale\":\n",
    "        pvq_over_10 = pvq.loc[pvq[column] > 10]\n",
    "        print(f\"{column}: {pvq_over_10.shape}\")\n",
    "    else:\n",
    "        pvq_over_6 = pvq.loc[pvq[column] > 6]\n",
    "        print(f\"{column}: {pvq_over_6.shape}\")"
   ]
  },
  {
   "cell_type": "code",
   "execution_count": 10,
   "metadata": {},
   "outputs": [],
   "source": [
    "lrscale = pvq_imp_columns[\"lrscale\"]\n",
    "lrscale_cleaned = lrscale.copy()"
   ]
  },
  {
   "cell_type": "code",
   "execution_count": 11,
   "metadata": {},
   "outputs": [],
   "source": [
    "lrscale_cleaned = lrscale_cleaned.to_frame(name=\"lrscale\")\n",
    "\n",
    "lrscale_cleaned = lrscale_cleaned[lrscale_cleaned.lrscale <= 10]"
   ]
  },
  {
   "cell_type": "code",
   "execution_count": 12,
   "metadata": {},
   "outputs": [
    {
     "data": {
      "text/plain": [
       "(38583, 1)"
      ]
     },
     "execution_count": 12,
     "metadata": {},
     "output_type": "execute_result"
    }
   ],
   "source": [
    "lrscale_cleaned.shape"
   ]
  },
  {
   "cell_type": "markdown",
   "metadata": {},
   "source": [
    "## Normal Distribution on lrscale"
   ]
  },
  {
   "cell_type": "code",
   "execution_count": 13,
   "metadata": {},
   "outputs": [
    {
     "data": {
      "text/plain": [
       "array([[<matplotlib.axes._subplots.AxesSubplot object at 0x7fa33fbb0a10>]],\n",
       "      dtype=object)"
      ]
     },
     "execution_count": 13,
     "metadata": {},
     "output_type": "execute_result"
    },
    {
     "data": {
      "image/png": "[encoded data removed]",
      "text/plain": [
       "<Figure size 1008x432 with 1 Axes>"
      ]
     },
     "metadata": {
      "needs_background": "light"
     },
     "output_type": "display_data"
    }
   ],
   "source": [
    "# ax = sns.distplot(lrscale_cleaned)\n",
    "# plt.show()\n",
    "lrscale_cleaned.hist(bins=10, figsize=[14,6])"
   ]
  },
  {
   "cell_type": "markdown",
   "metadata": {},
   "source": []
  },
  {
   "cell_type": "markdown",
   "metadata": {},
   "source": [
    "## Cleaning the data\n",
    "\n",
    "removing all invalid rows (i.e. with lrscale values over 10 and the rest over 6)"
   ]
  },
  {
   "cell_type": "code",
   "execution_count": 14,
   "metadata": {},
   "outputs": [],
   "source": [
    "pvq_cleaned = pvq_imp_columns.copy()\n",
    "\n",
    "indexNums = pvq_cleaned[(pvq_cleaned['lrscale'] > 10) | (pvq_cleaned['ipeqopt'] > 6) | (pvq_cleaned['ipudrst'] > 6) \n",
    "                        | (pvq_cleaned['impenv'] > 6) | (pvq_cleaned['ipshabt'] > 6) | (pvq_cleaned['ipsuces'] > 6)\n",
    "                        | (pvq_cleaned['iphlppl'] > 6)| (pvq_cleaned['iplylfr'] > 6) | (pvq_cleaned['ipcrtiv'] > 6)\n",
    "                        | (pvq_cleaned['impfree'] > 6) | (pvq_cleaned['impdiff'] > 6) | (pvq_cleaned['ipadvnt'] > 6)\n",
    "                        | (pvq_cleaned['ipgdtim'] > 6) | (pvq_cleaned['impfun'] > 6) |(pvq_cleaned['imprich'] > 6)\n",
    "                        | (pvq_cleaned['iprspot'] > 6) | (pvq_cleaned['impsafe'] > 6) | (pvq_cleaned['ipstrgv'] > 6) \n",
    "                        | (pvq_cleaned['ipfrule'] > 6) | (pvq_cleaned['ipbhprp'] > 6) | (pvq_cleaned['ipmodst'] > 6)\n",
    "                        | (pvq_cleaned['imptrad'] > 6)].index\n",
    "\n",
    "\n",
    "pvq_cleaned.drop(indexNums, inplace=True, axis=0)\n",
    "# pvq_cleaned.shape\n"
   ]
  },
  {
   "cell_type": "markdown",
   "metadata": {},
   "source": [
    "## Mapping (questions to values)\n",
    "\n",
    "Approach: Create a human value dictionary: For each value, create a list of questions (strings) corresponding to that value"
   ]
  },
  {
   "cell_type": "code",
   "execution_count": 15,
   "metadata": {},
   "outputs": [],
   "source": [
    "values = {'universalism':[],'achievement':[],'benevolence':[],'self_direction':[],'stimulation':[],'hedonism':[],'power':[],\n",
    "         'security':[], 'conformity':[], 'tradition':[]}\n",
    "\n",
    "universalism = ['ipeqopt','ipudrst','impenv']\n",
    "# values.append(universalism)\n",
    "values[\"universalism\"] = universalism\n",
    "\n",
    "achievement = ['ipshabt','ipsuces']\n",
    "# values.append(achievement)\n",
    "values[\"achievement\"] = achievement\n",
    "\n",
    "benevolence = ['iphlppl', 'iplylfr']\n",
    "# values.append(benevolence)\n",
    "values[\"benevolence\"] = benevolence\n",
    "\n",
    "self_direction = ['ipcrtiv', 'impfree']\n",
    "# values.append(self_direction)\n",
    "values['self_direction'] = self_direction\n",
    "\n",
    "stimulation = ['impdiff', 'ipadvnt']\n",
    "# values.append(stimulation)\n",
    "values['stimulation'] = stimulation\n",
    "\n",
    "hedonism = ['ipgdtim', 'impfun']\n",
    "# values.append(hedonism)\n",
    "values['hedonism'] = hedonism\n",
    "\n",
    "power = ['imprich', 'iprspot']\n",
    "# values.append(power)\n",
    "values['power'] = power\n",
    "\n",
    "security = ['impsafe', 'ipstrgv']\n",
    "# values.append(security)\n",
    "values['security'] = security\n",
    "\n",
    "conformity = ['ipfrule', 'ipbhprp']\n",
    "# values.append(conformity)\n",
    "values['conformity'] = conformity\n",
    "\n",
    "tradition = ['ipmodst','imptrad']\n",
    "# values.append(tradition)\n",
    "values['tradition'] = tradition\n"
   ]
  },
  {
   "cell_type": "code",
   "execution_count": 16,
   "metadata": {},
   "outputs": [],
   "source": [
    "pvq_cleaned.to_csv(r'pvq21cleaned.csv', index= False)"
   ]
  },
  {
   "cell_type": "markdown",
   "metadata": {},
   "source": [
    "## Potential solution: \n",
    "\n",
    "### The data structure\n",
    "\n",
    "{index0: {value1: NUM, value2: NUM, ..., value10: NUM}, index1}\n",
    "\n",
    "where `index` is the person responding which containts a dictioanary of values and the corresponding scores\n",
    "\n",
    "*Create a dictionary*\n",
    "averaged_raw = {}\n",
    "\n",
    "for index,rows in pvq_cleaned.iterrows():\n",
    "    *for each cell in each row*\n",
    "    for el in rows: \n",
    "        for value in values:\n",
    "            for question in value:\n",
    "                #add the score of that question to the corresponding value score\n",
    "                {index0: {value1: NUM, value2: NUM, ..., value10: NUM}, index1}\n",
    "\n",
    "            \n",
    "        "
   ]
  },
  {
   "cell_type": "code",
   "execution_count": 17,
   "metadata": {},
   "outputs": [],
   "source": [
    "from collections import defaultdict"
   ]
  },
  {
   "cell_type": "code",
   "execution_count": 35,
   "metadata": {},
   "outputs": [],
   "source": [
    "averaged_raw = defaultdict(lambda: defaultdict(lambda: 0))\n",
    "# averaged_raw_test = {}\n",
    "overall_score = 0\n",
    "\n",
    "for index,rows in pvq_cleaned.iterrows():\n",
    "    averaged_raw[index]['lrscale'] = rows['lrscale'] #adding the left-right scale\n",
    "    overall_score = 0\n",
    "    person_overall_score = 0 #instantiating the variable that will sum of value scores for each person\n",
    "    for human_value,questions in values.items():\n",
    "        cumulative_value = 0 #instantiate the variable that will hold all question scores mapping to a value\n",
    "        value_score = 0  #instantiate the variable that will hold the score for the mapped value\n",
    "        for question in questions:\n",
    "            cumulative_value += rows[question]\n",
    "            num_questions = len(questions)\n",
    "        \n",
    "        value_score = cumulative_value/num_questions\n",
    "        averaged_raw[index][human_value] =  value_score\n",
    "\n",
    "        person_overall_score += value_score #calculate the overall, global score\n",
    "\n",
    "        \n",
    "    averaged_raw[index]['p_avg'] = person_overall_score/10\n"
   ]
  },
  {
   "cell_type": "markdown",
   "metadata": {},
   "source": [
    "Make sure the numbers are being added cumulatively"
   ]
  },
  {
   "cell_type": "code",
   "execution_count": 39,
   "metadata": {},
   "outputs": [
    {
     "name": "stdout",
     "output_type": "stream",
     "text": [
      "2.4333333333333336\n"
     ]
    }
   ],
   "source": [
    "# print(averaged_raw)\n",
    "# print(averaged_raw_test)\n",
    "# print(len(averaged_raw))\n",
    "print(averaged_raw[3]['p_avg'])"
   ]
  },
  {
   "cell_type": "markdown",
   "metadata": {},
   "source": [
    "# ToDo\n",
    "\n",
    "- [x] Find a way to store the lrscale measurement (e.g. just add it in the dictionary of each individual or consider adding instead of index)\n",
    "- [ ] Implement scoring for each person\n",
    "- [ ] Convert back to csv?\n",
    "\n",
    "\n",
    "\n",
    "\n",
    "### Scoring"
   ]
  },
  {
   "cell_type": "code",
   "execution_count": 40,
   "metadata": {},
   "outputs": [],
   "source": [
    "#make it faster!\n",
    "\n",
    "def centred_scoring(p_avg, raw_score,overall_avg):\n",
    "    POSITIVITY_CONSTANT = 3.5\n",
    "    centred_score = (raw_score - p_avg + POSITIVITY_CONSTANT)\n",
    "    \n",
    "    return centred_score\n",
    "\n",
    "\n",
    "def create_centred_dict(value_score_dictionary):\n",
    "    centred_scores = defaultdict(lambda: defaultdict(lambda: 0))\n",
    "    for index,scores in value_score_dictionary.items():\n",
    "        centred_scores[index]['lrscale'] = scores['lrscale']\n",
    "        for value, raw_score in scores.items():\n",
    "            if value != 'lrscale':\n",
    "                centred_scores[index][value] = centred_scoring(value_score_dictionary[index]['p_avg'],raw_score,index)\n",
    "\n",
    "\n",
    "    return centred_scores\n",
    "    \n",
    "        \n",
    "centred_dict = create_centred_dict(averaged_raw)"
   ]
  },
  {
   "cell_type": "code",
   "execution_count": 41,
   "metadata": {},
   "outputs": [],
   "source": [
    "pvq_centred_scores = pd.DataFrame.from_dict(centred_dict, orient='index')"
   ]
  },
  {
   "cell_type": "code",
   "execution_count": 42,
   "metadata": {},
   "outputs": [],
   "source": [
    "pvq_centred_scores.to_csv('pvq21CENTRED.csv', index = True)"
   ]
  },
  {
   "cell_type": "code",
   "execution_count": 43,
   "metadata": {},
   "outputs": [
    {
     "data": {
      "text/html": [
       "<div>\n",
       "<style scoped>\n",
       "    .dataframe tbody tr th:only-of-type {\n",
       "        vertical-align: middle;\n",
       "    }\n",
       "\n",
       "    .dataframe tbody tr th {\n",
       "        vertical-align: top;\n",
       "    }\n",
       "\n",
       "    .dataframe thead th {\n",
       "        text-align: right;\n",
       "    }\n",
       "</style>\n",
       "<table border=\"1\" class=\"dataframe\">\n",
       "  <thead>\n",
       "    <tr style=\"text-align: right;\">\n",
       "      <th></th>\n",
       "      <th>lrscale</th>\n",
       "      <th>universalism</th>\n",
       "      <th>achievement</th>\n",
       "      <th>benevolence</th>\n",
       "      <th>self_direction</th>\n",
       "      <th>stimulation</th>\n",
       "      <th>hedonism</th>\n",
       "      <th>power</th>\n",
       "      <th>security</th>\n",
       "      <th>conformity</th>\n",
       "      <th>tradition</th>\n",
       "      <th>p_avg</th>\n",
       "    </tr>\n",
       "  </thead>\n",
       "  <tbody>\n",
       "    <tr>\n",
       "      <th>0</th>\n",
       "      <td>0</td>\n",
       "      <td>1.50</td>\n",
       "      <td>2.500000</td>\n",
       "      <td>1.500000</td>\n",
       "      <td>3.000000</td>\n",
       "      <td>3.500000</td>\n",
       "      <td>4.000000</td>\n",
       "      <td>4.000000</td>\n",
       "      <td>4.500000</td>\n",
       "      <td>6.000000</td>\n",
       "      <td>4.500000</td>\n",
       "      <td>3.5</td>\n",
       "    </tr>\n",
       "    <tr>\n",
       "      <th>1</th>\n",
       "      <td>1</td>\n",
       "      <td>2.20</td>\n",
       "      <td>2.866667</td>\n",
       "      <td>2.366667</td>\n",
       "      <td>2.366667</td>\n",
       "      <td>3.866667</td>\n",
       "      <td>3.866667</td>\n",
       "      <td>3.866667</td>\n",
       "      <td>4.366667</td>\n",
       "      <td>4.866667</td>\n",
       "      <td>4.366667</td>\n",
       "      <td>3.5</td>\n",
       "    </tr>\n",
       "    <tr>\n",
       "      <th>2</th>\n",
       "      <td>5</td>\n",
       "      <td>2.35</td>\n",
       "      <td>5.350000</td>\n",
       "      <td>2.350000</td>\n",
       "      <td>2.850000</td>\n",
       "      <td>6.350000</td>\n",
       "      <td>2.850000</td>\n",
       "      <td>4.350000</td>\n",
       "      <td>1.350000</td>\n",
       "      <td>4.350000</td>\n",
       "      <td>2.850000</td>\n",
       "      <td>3.5</td>\n",
       "    </tr>\n",
       "    <tr>\n",
       "      <th>3</th>\n",
       "      <td>0</td>\n",
       "      <td>3.40</td>\n",
       "      <td>3.566667</td>\n",
       "      <td>3.566667</td>\n",
       "      <td>3.066667</td>\n",
       "      <td>4.066667</td>\n",
       "      <td>3.066667</td>\n",
       "      <td>3.566667</td>\n",
       "      <td>3.066667</td>\n",
       "      <td>4.566667</td>\n",
       "      <td>3.066667</td>\n",
       "      <td>3.5</td>\n",
       "    </tr>\n",
       "    <tr>\n",
       "      <th>4</th>\n",
       "      <td>5</td>\n",
       "      <td>2.55</td>\n",
       "      <td>4.383333</td>\n",
       "      <td>1.883333</td>\n",
       "      <td>2.883333</td>\n",
       "      <td>4.883333</td>\n",
       "      <td>1.883333</td>\n",
       "      <td>4.383333</td>\n",
       "      <td>4.383333</td>\n",
       "      <td>4.383333</td>\n",
       "      <td>3.383333</td>\n",
       "      <td>3.5</td>\n",
       "    </tr>\n",
       "    <tr>\n",
       "      <th>...</th>\n",
       "      <td>...</td>\n",
       "      <td>...</td>\n",
       "      <td>...</td>\n",
       "      <td>...</td>\n",
       "      <td>...</td>\n",
       "      <td>...</td>\n",
       "      <td>...</td>\n",
       "      <td>...</td>\n",
       "      <td>...</td>\n",
       "      <td>...</td>\n",
       "      <td>...</td>\n",
       "      <td>...</td>\n",
       "    </tr>\n",
       "    <tr>\n",
       "      <th>44382</th>\n",
       "      <td>1</td>\n",
       "      <td>4.85</td>\n",
       "      <td>3.350000</td>\n",
       "      <td>2.850000</td>\n",
       "      <td>2.850000</td>\n",
       "      <td>2.850000</td>\n",
       "      <td>2.850000</td>\n",
       "      <td>3.850000</td>\n",
       "      <td>2.850000</td>\n",
       "      <td>5.350000</td>\n",
       "      <td>3.350000</td>\n",
       "      <td>3.5</td>\n",
       "    </tr>\n",
       "    <tr>\n",
       "      <th>44383</th>\n",
       "      <td>5</td>\n",
       "      <td>3.25</td>\n",
       "      <td>3.083333</td>\n",
       "      <td>2.583333</td>\n",
       "      <td>2.583333</td>\n",
       "      <td>5.083333</td>\n",
       "      <td>4.083333</td>\n",
       "      <td>4.583333</td>\n",
       "      <td>3.083333</td>\n",
       "      <td>3.083333</td>\n",
       "      <td>3.583333</td>\n",
       "      <td>3.5</td>\n",
       "    </tr>\n",
       "    <tr>\n",
       "      <th>44384</th>\n",
       "      <td>0</td>\n",
       "      <td>2.70</td>\n",
       "      <td>2.866667</td>\n",
       "      <td>3.366667</td>\n",
       "      <td>2.866667</td>\n",
       "      <td>4.366667</td>\n",
       "      <td>5.866667</td>\n",
       "      <td>4.866667</td>\n",
       "      <td>2.866667</td>\n",
       "      <td>2.366667</td>\n",
       "      <td>2.866667</td>\n",
       "      <td>3.5</td>\n",
       "    </tr>\n",
       "    <tr>\n",
       "      <th>44385</th>\n",
       "      <td>4</td>\n",
       "      <td>3.50</td>\n",
       "      <td>3.000000</td>\n",
       "      <td>3.500000</td>\n",
       "      <td>3.000000</td>\n",
       "      <td>3.000000</td>\n",
       "      <td>2.500000</td>\n",
       "      <td>3.500000</td>\n",
       "      <td>3.000000</td>\n",
       "      <td>5.500000</td>\n",
       "      <td>4.500000</td>\n",
       "      <td>3.5</td>\n",
       "    </tr>\n",
       "    <tr>\n",
       "      <th>44386</th>\n",
       "      <td>4</td>\n",
       "      <td>4.55</td>\n",
       "      <td>3.716667</td>\n",
       "      <td>2.716667</td>\n",
       "      <td>2.716667</td>\n",
       "      <td>2.716667</td>\n",
       "      <td>3.216667</td>\n",
       "      <td>4.216667</td>\n",
       "      <td>4.216667</td>\n",
       "      <td>3.716667</td>\n",
       "      <td>3.216667</td>\n",
       "      <td>3.5</td>\n",
       "    </tr>\n",
       "  </tbody>\n",
       "</table>\n",
       "<p>36360 rows × 12 columns</p>\n",
       "</div>"
      ],
      "text/plain": [
       "       lrscale  universalism  achievement  benevolence  self_direction  \\\n",
       "0            0          1.50     2.500000     1.500000        3.000000   \n",
       "1            1          2.20     2.866667     2.366667        2.366667   \n",
       "2            5          2.35     5.350000     2.350000        2.850000   \n",
       "3            0          3.40     3.566667     3.566667        3.066667   \n",
       "4            5          2.55     4.383333     1.883333        2.883333   \n",
       "...        ...           ...          ...          ...             ...   \n",
       "44382        1          4.85     3.350000     2.850000        2.850000   \n",
       "44383        5          3.25     3.083333     2.583333        2.583333   \n",
       "44384        0          2.70     2.866667     3.366667        2.866667   \n",
       "44385        4          3.50     3.000000     3.500000        3.000000   \n",
       "44386        4          4.55     3.716667     2.716667        2.716667   \n",
       "\n",
       "       stimulation  hedonism     power  security  conformity  tradition  p_avg  \n",
       "0         3.500000  4.000000  4.000000  4.500000    6.000000   4.500000    3.5  \n",
       "1         3.866667  3.866667  3.866667  4.366667    4.866667   4.366667    3.5  \n",
       "2         6.350000  2.850000  4.350000  1.350000    4.350000   2.850000    3.5  \n",
       "3         4.066667  3.066667  3.566667  3.066667    4.566667   3.066667    3.5  \n",
       "4         4.883333  1.883333  4.383333  4.383333    4.383333   3.383333    3.5  \n",
       "...            ...       ...       ...       ...         ...        ...    ...  \n",
       "44382     2.850000  2.850000  3.850000  2.850000    5.350000   3.350000    3.5  \n",
       "44383     5.083333  4.083333  4.583333  3.083333    3.083333   3.583333    3.5  \n",
       "44384     4.366667  5.866667  4.866667  2.866667    2.366667   2.866667    3.5  \n",
       "44385     3.000000  2.500000  3.500000  3.000000    5.500000   4.500000    3.5  \n",
       "44386     2.716667  3.216667  4.216667  4.216667    3.716667   3.216667    3.5  \n",
       "\n",
       "[36360 rows x 12 columns]"
      ]
     },
     "execution_count": 43,
     "metadata": {},
     "output_type": "execute_result"
    }
   ],
   "source": [
    "pvq_centred_scores "
   ]
  },
  {
   "cell_type": "code",
   "execution_count": null,
   "metadata": {},
   "outputs": [],
   "source": []
  }
 ],
 "metadata": {
  "kernelspec": {
   "display_name": "Python 3",
   "language": "python",
   "name": "python3"
  },
  "language_info": {
   "codemirror_mode": {
    "name": "ipython",
    "version": 3
   },
   "file_extension": ".py",
   "mimetype": "text/x-python",
   "name": "python",
   "nbconvert_exporter": "python",
   "pygments_lexer": "ipython3",
   "version": "3.7.6"
  }
 },
 "nbformat": 4,
 "nbformat_minor": 4
}
