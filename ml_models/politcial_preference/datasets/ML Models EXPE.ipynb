{
 "cells": [
  {
   "cell_type": "code",
   "execution_count": 3,
   "metadata": {},
   "outputs": [],
   "source": [
    "import pandas as pd \n",
    "\n",
    "\n",
    "data = pd.read_csv(\"pvq21CENTRED.csv\", sep=',')"
   ]
  },
  {
   "cell_type": "code",
   "execution_count": 4,
   "metadata": {},
   "outputs": [],
   "source": [
    "lrscale = data['lrscale']"
   ]
  },
  {
   "cell_type": "code",
   "execution_count": 5,
   "metadata": {},
   "outputs": [
    {
     "data": {
      "text/plain": [
       "<matplotlib.axes._subplots.AxesSubplot at 0x7fb9513faf10>"
      ]
     },
     "execution_count": 5,
     "metadata": {},
     "output_type": "execute_result"
    },
    {
     "data": {
      "image/png": "[encoded data removed]",
      "text/plain": [
       "<Figure size 1008x432 with 1 Axes>"
      ]
     },
     "metadata": {
      "needs_background": "light"
     },
     "output_type": "display_data"
    }
   ],
   "source": [
    "lrscale.hist(bins=10, figsize=[14,6])"
   ]
  },
  {
   "cell_type": "code",
   "execution_count": 6,
   "metadata": {},
   "outputs": [
    {
     "data": {
      "text/plain": [
       "0        0\n",
       "1        1\n",
       "2        5\n",
       "3        0\n",
       "4        5\n",
       "        ..\n",
       "36355    1\n",
       "36356    5\n",
       "36357    0\n",
       "36358    4\n",
       "36359    4\n",
       "Name: lrscale, Length: 36360, dtype: int64"
      ]
     },
     "execution_count": 6,
     "metadata": {},
     "output_type": "execute_result"
    }
   ],
   "source": [
    "data['lrscale']\n"
   ]
  },
  {
   "cell_type": "code",
   "execution_count": 7,
   "metadata": {},
   "outputs": [],
   "source": [
    "def normalise (value):\n",
    "    if int(value) > 5:\n",
    "        return 2\n",
    "    elif int(value) == 5:\n",
    "        return 1\n",
    "    elif int(value) < 5:\n",
    "        return 0\n",
    "    \n",
    "\n",
    "    "
   ]
  },
  {
   "cell_type": "code",
   "execution_count": 8,
   "metadata": {},
   "outputs": [],
   "source": [
    "data['lrscale'] = data['lrscale'].apply(normalise)"
   ]
  },
  {
   "cell_type": "code",
   "execution_count": 9,
   "metadata": {},
   "outputs": [
    {
     "data": {
      "text/html": [
       "<div>\n",
       "<style scoped>\n",
       "    .dataframe tbody tr th:only-of-type {\n",
       "        vertical-align: middle;\n",
       "    }\n",
       "\n",
       "    .dataframe tbody tr th {\n",
       "        vertical-align: top;\n",
       "    }\n",
       "\n",
       "    .dataframe thead th {\n",
       "        text-align: right;\n",
       "    }\n",
       "</style>\n",
       "<table border=\"1\" class=\"dataframe\">\n",
       "  <thead>\n",
       "    <tr style=\"text-align: right;\">\n",
       "      <th></th>\n",
       "      <th>Unnamed: 0</th>\n",
       "      <th>lrscale</th>\n",
       "      <th>universalism</th>\n",
       "      <th>achievement</th>\n",
       "      <th>benevolence</th>\n",
       "      <th>self_direction</th>\n",
       "      <th>stimulation</th>\n",
       "      <th>hedonism</th>\n",
       "      <th>power</th>\n",
       "      <th>security</th>\n",
       "      <th>conformity</th>\n",
       "      <th>tradition</th>\n",
       "      <th>p_avg</th>\n",
       "    </tr>\n",
       "  </thead>\n",
       "  <tbody>\n",
       "    <tr>\n",
       "      <th>0</th>\n",
       "      <td>0</td>\n",
       "      <td>0</td>\n",
       "      <td>1.50</td>\n",
       "      <td>2.500000</td>\n",
       "      <td>1.500000</td>\n",
       "      <td>3.000000</td>\n",
       "      <td>3.500000</td>\n",
       "      <td>4.000000</td>\n",
       "      <td>4.000000</td>\n",
       "      <td>4.500000</td>\n",
       "      <td>6.000000</td>\n",
       "      <td>4.500000</td>\n",
       "      <td>3.5</td>\n",
       "    </tr>\n",
       "    <tr>\n",
       "      <th>1</th>\n",
       "      <td>1</td>\n",
       "      <td>0</td>\n",
       "      <td>2.20</td>\n",
       "      <td>2.866667</td>\n",
       "      <td>2.366667</td>\n",
       "      <td>2.366667</td>\n",
       "      <td>3.866667</td>\n",
       "      <td>3.866667</td>\n",
       "      <td>3.866667</td>\n",
       "      <td>4.366667</td>\n",
       "      <td>4.866667</td>\n",
       "      <td>4.366667</td>\n",
       "      <td>3.5</td>\n",
       "    </tr>\n",
       "    <tr>\n",
       "      <th>2</th>\n",
       "      <td>2</td>\n",
       "      <td>1</td>\n",
       "      <td>2.35</td>\n",
       "      <td>5.350000</td>\n",
       "      <td>2.350000</td>\n",
       "      <td>2.850000</td>\n",
       "      <td>6.350000</td>\n",
       "      <td>2.850000</td>\n",
       "      <td>4.350000</td>\n",
       "      <td>1.350000</td>\n",
       "      <td>4.350000</td>\n",
       "      <td>2.850000</td>\n",
       "      <td>3.5</td>\n",
       "    </tr>\n",
       "    <tr>\n",
       "      <th>3</th>\n",
       "      <td>3</td>\n",
       "      <td>0</td>\n",
       "      <td>3.40</td>\n",
       "      <td>3.566667</td>\n",
       "      <td>3.566667</td>\n",
       "      <td>3.066667</td>\n",
       "      <td>4.066667</td>\n",
       "      <td>3.066667</td>\n",
       "      <td>3.566667</td>\n",
       "      <td>3.066667</td>\n",
       "      <td>4.566667</td>\n",
       "      <td>3.066667</td>\n",
       "      <td>3.5</td>\n",
       "    </tr>\n",
       "    <tr>\n",
       "      <th>4</th>\n",
       "      <td>4</td>\n",
       "      <td>1</td>\n",
       "      <td>2.55</td>\n",
       "      <td>4.383333</td>\n",
       "      <td>1.883333</td>\n",
       "      <td>2.883333</td>\n",
       "      <td>4.883333</td>\n",
       "      <td>1.883333</td>\n",
       "      <td>4.383333</td>\n",
       "      <td>4.383333</td>\n",
       "      <td>4.383333</td>\n",
       "      <td>3.383333</td>\n",
       "      <td>3.5</td>\n",
       "    </tr>\n",
       "    <tr>\n",
       "      <th>...</th>\n",
       "      <td>...</td>\n",
       "      <td>...</td>\n",
       "      <td>...</td>\n",
       "      <td>...</td>\n",
       "      <td>...</td>\n",
       "      <td>...</td>\n",
       "      <td>...</td>\n",
       "      <td>...</td>\n",
       "      <td>...</td>\n",
       "      <td>...</td>\n",
       "      <td>...</td>\n",
       "      <td>...</td>\n",
       "      <td>...</td>\n",
       "    </tr>\n",
       "    <tr>\n",
       "      <th>36355</th>\n",
       "      <td>44382</td>\n",
       "      <td>0</td>\n",
       "      <td>4.85</td>\n",
       "      <td>3.350000</td>\n",
       "      <td>2.850000</td>\n",
       "      <td>2.850000</td>\n",
       "      <td>2.850000</td>\n",
       "      <td>2.850000</td>\n",
       "      <td>3.850000</td>\n",
       "      <td>2.850000</td>\n",
       "      <td>5.350000</td>\n",
       "      <td>3.350000</td>\n",
       "      <td>3.5</td>\n",
       "    </tr>\n",
       "    <tr>\n",
       "      <th>36356</th>\n",
       "      <td>44383</td>\n",
       "      <td>1</td>\n",
       "      <td>3.25</td>\n",
       "      <td>3.083333</td>\n",
       "      <td>2.583333</td>\n",
       "      <td>2.583333</td>\n",
       "      <td>5.083333</td>\n",
       "      <td>4.083333</td>\n",
       "      <td>4.583333</td>\n",
       "      <td>3.083333</td>\n",
       "      <td>3.083333</td>\n",
       "      <td>3.583333</td>\n",
       "      <td>3.5</td>\n",
       "    </tr>\n",
       "    <tr>\n",
       "      <th>36357</th>\n",
       "      <td>44384</td>\n",
       "      <td>0</td>\n",
       "      <td>2.70</td>\n",
       "      <td>2.866667</td>\n",
       "      <td>3.366667</td>\n",
       "      <td>2.866667</td>\n",
       "      <td>4.366667</td>\n",
       "      <td>5.866667</td>\n",
       "      <td>4.866667</td>\n",
       "      <td>2.866667</td>\n",
       "      <td>2.366667</td>\n",
       "      <td>2.866667</td>\n",
       "      <td>3.5</td>\n",
       "    </tr>\n",
       "    <tr>\n",
       "      <th>36358</th>\n",
       "      <td>44385</td>\n",
       "      <td>0</td>\n",
       "      <td>3.50</td>\n",
       "      <td>3.000000</td>\n",
       "      <td>3.500000</td>\n",
       "      <td>3.000000</td>\n",
       "      <td>3.000000</td>\n",
       "      <td>2.500000</td>\n",
       "      <td>3.500000</td>\n",
       "      <td>3.000000</td>\n",
       "      <td>5.500000</td>\n",
       "      <td>4.500000</td>\n",
       "      <td>3.5</td>\n",
       "    </tr>\n",
       "    <tr>\n",
       "      <th>36359</th>\n",
       "      <td>44386</td>\n",
       "      <td>0</td>\n",
       "      <td>4.55</td>\n",
       "      <td>3.716667</td>\n",
       "      <td>2.716667</td>\n",
       "      <td>2.716667</td>\n",
       "      <td>2.716667</td>\n",
       "      <td>3.216667</td>\n",
       "      <td>4.216667</td>\n",
       "      <td>4.216667</td>\n",
       "      <td>3.716667</td>\n",
       "      <td>3.216667</td>\n",
       "      <td>3.5</td>\n",
       "    </tr>\n",
       "  </tbody>\n",
       "</table>\n",
       "<p>36360 rows × 13 columns</p>\n",
       "</div>"
      ],
      "text/plain": [
       "       Unnamed: 0  lrscale  universalism  achievement  benevolence  \\\n",
       "0               0        0          1.50     2.500000     1.500000   \n",
       "1               1        0          2.20     2.866667     2.366667   \n",
       "2               2        1          2.35     5.350000     2.350000   \n",
       "3               3        0          3.40     3.566667     3.566667   \n",
       "4               4        1          2.55     4.383333     1.883333   \n",
       "...           ...      ...           ...          ...          ...   \n",
       "36355       44382        0          4.85     3.350000     2.850000   \n",
       "36356       44383        1          3.25     3.083333     2.583333   \n",
       "36357       44384        0          2.70     2.866667     3.366667   \n",
       "36358       44385        0          3.50     3.000000     3.500000   \n",
       "36359       44386        0          4.55     3.716667     2.716667   \n",
       "\n",
       "       self_direction  stimulation  hedonism     power  security  conformity  \\\n",
       "0            3.000000     3.500000  4.000000  4.000000  4.500000    6.000000   \n",
       "1            2.366667     3.866667  3.866667  3.866667  4.366667    4.866667   \n",
       "2            2.850000     6.350000  2.850000  4.350000  1.350000    4.350000   \n",
       "3            3.066667     4.066667  3.066667  3.566667  3.066667    4.566667   \n",
       "4            2.883333     4.883333  1.883333  4.383333  4.383333    4.383333   \n",
       "...               ...          ...       ...       ...       ...         ...   \n",
       "36355        2.850000     2.850000  2.850000  3.850000  2.850000    5.350000   \n",
       "36356        2.583333     5.083333  4.083333  4.583333  3.083333    3.083333   \n",
       "36357        2.866667     4.366667  5.866667  4.866667  2.866667    2.366667   \n",
       "36358        3.000000     3.000000  2.500000  3.500000  3.000000    5.500000   \n",
       "36359        2.716667     2.716667  3.216667  4.216667  4.216667    3.716667   \n",
       "\n",
       "       tradition  p_avg  \n",
       "0       4.500000    3.5  \n",
       "1       4.366667    3.5  \n",
       "2       2.850000    3.5  \n",
       "3       3.066667    3.5  \n",
       "4       3.383333    3.5  \n",
       "...          ...    ...  \n",
       "36355   3.350000    3.5  \n",
       "36356   3.583333    3.5  \n",
       "36357   2.866667    3.5  \n",
       "36358   4.500000    3.5  \n",
       "36359   3.216667    3.5  \n",
       "\n",
       "[36360 rows x 13 columns]"
      ]
     },
     "execution_count": 9,
     "metadata": {},
     "output_type": "execute_result"
    }
   ],
   "source": [
    "data"
   ]
  },
  {
   "cell_type": "markdown",
   "metadata": {},
   "source": [
    "# Model\n"
   ]
  },
  {
   "cell_type": "code",
   "execution_count": 10,
   "metadata": {},
   "outputs": [],
   "source": [
    "import csv, numpy as np\n",
    "import pandas as pd\n",
    "from sklearn.model_selection import train_test_split\n",
    "from sklearn.model_selection import KFold\n",
    "from sklearn.model_selection import RepeatedKFold\n",
    "from sklearn.model_selection import cross_val_score\n",
    "#TEMP \n",
    "from sklearn.linear_model import LinearRegression, Lasso"
   ]
  },
  {
   "cell_type": "code",
   "execution_count": 11,
   "metadata": {},
   "outputs": [],
   "source": [
    "model_data = data.to_numpy()\n",
    "\n",
    "x_df = data.iloc[:, 2:12].copy()\n",
    "y_df = data.iloc[:,1].copy()\n",
    "# X data --> All columns but 0,1,& 13 &&& y data --> column 1\n",
    "# X, y = data[:, 2:12], data[:, 1]\n",
    "\n",
    "X = x_df.to_numpy()\n",
    "y = y_df.to_numpy()\n"
   ]
  },
  {
   "cell_type": "code",
   "execution_count": 12,
   "metadata": {},
   "outputs": [],
   "source": [
    "num_test = 0.20\n",
    "X_train, X_test, y_train, y_test = train_test_split(X, y, test_size=num_test, random_state=23)"
   ]
  },
  {
   "cell_type": "markdown",
   "metadata": {},
   "source": [
    "## LASSO (≈ 0.318)"
   ]
  },
  {
   "cell_type": "code",
   "execution_count": 13,
   "metadata": {},
   "outputs": [
    {
     "name": "stdout",
     "output_type": "stream",
     "text": [
      "Mean MAE: 0.692 (0.006)\n"
     ]
    }
   ],
   "source": [
    "model = Lasso(alpha=1.0)\n",
    "# define model evaluation method\n",
    "cv = RepeatedKFold(n_splits=10, n_repeats=3, random_state=1)\n",
    "# evaluate model\n",
    "scores = cross_val_score(model, X, y, scoring='neg_mean_absolute_error', cv=cv, n_jobs=-1)\n",
    "# force scores to be positive|\n",
    "scores = np.absolute(scores)\n",
    "print('Mean MAE: %.3f (%.3f)' % (np.mean(scores), np.std(scores)))"
   ]
  },
  {
   "cell_type": "code",
   "execution_count": 14,
   "metadata": {},
   "outputs": [
    {
     "name": "stdout",
     "output_type": "stream",
     "text": [
      "[1.05294279 1.05294279 1.05294279 ... 1.05294279 1.05294279 1.05294279]\n",
      "Accuracy of:  0.3179317931793179\n"
     ]
    }
   ],
   "source": [
    "model.fit(X_train, y_train)\n",
    "predicted = model.predict(X_test)\n",
    "print(predicted)\n",
    "print(\"Accuracy of: \", np.mean(predicted.astype(int) == y_test.astype(int)))"
   ]
  },
  {
   "cell_type": "markdown",
   "metadata": {},
   "source": [
    "## Linear Regression (≈ 0.318)"
   ]
  },
  {
   "cell_type": "code",
   "execution_count": 15,
   "metadata": {},
   "outputs": [
    {
     "name": "stdout",
     "output_type": "stream",
     "text": [
      "[0.95587921 1.16639709 1.24474335 ... 0.86523438 0.92027283 1.02198029]\n",
      "Accuracy of:  0.3179317931793179\n"
     ]
    }
   ],
   "source": [
    "reg = LinearRegression()\n",
    "reg.fit(X_train, y_train)\n",
    "predicted_float = reg.predict(X_test)\n",
    "print(predicted_float)\n",
    "\n",
    "print(\"Accuracy of: \", np.mean(predicted.astype(int) == y_test.astype(int)))"
   ]
  },
  {
   "cell_type": "markdown",
   "metadata": {},
   "source": [
    "## Logistic Regression (≈)"
   ]
  },
  {
   "cell_type": "code",
   "execution_count": 2,
   "metadata": {},
   "outputs": [
    {
     "ename": "NameError",
     "evalue": "name 'X_train' is not defined",
     "output_type": "error",
     "traceback": [
      "\u001b[0;31m---------------------------------------------------------------------------\u001b[0m",
      "\u001b[0;31mNameError\u001b[0m                                 Traceback (most recent call last)",
      "\u001b[0;32m<ipython-input-2-f3676a21ea52>\u001b[0m in \u001b[0;36m<module>\u001b[0;34m\u001b[0m\n\u001b[1;32m      3\u001b[0m \u001b[0mclf\u001b[0m \u001b[0;34m=\u001b[0m \u001b[0mLogisticRegression\u001b[0m\u001b[0;34m(\u001b[0m\u001b[0mrandom_state\u001b[0m\u001b[0;34m=\u001b[0m\u001b[0;36m0\u001b[0m\u001b[0;34m)\u001b[0m\u001b[0;34m\u001b[0m\u001b[0;34m\u001b[0m\u001b[0m\n\u001b[1;32m      4\u001b[0m \u001b[0;34m\u001b[0m\u001b[0m\n\u001b[0;32m----> 5\u001b[0;31m \u001b[0mclf\u001b[0m\u001b[0;34m.\u001b[0m\u001b[0mfit\u001b[0m\u001b[0;34m(\u001b[0m\u001b[0mX_train\u001b[0m\u001b[0;34m,\u001b[0m\u001b[0my_train\u001b[0m\u001b[0;34m)\u001b[0m\u001b[0;34m\u001b[0m\u001b[0;34m\u001b[0m\u001b[0m\n\u001b[0m\u001b[1;32m      6\u001b[0m \u001b[0;34m\u001b[0m\u001b[0m\n\u001b[1;32m      7\u001b[0m \u001b[0mlr_predicted\u001b[0m \u001b[0;34m=\u001b[0m \u001b[0mclf\u001b[0m\u001b[0;34m.\u001b[0m\u001b[0mpredict\u001b[0m\u001b[0;34m(\u001b[0m\u001b[0mX_test\u001b[0m\u001b[0;34m)\u001b[0m\u001b[0;34m\u001b[0m\u001b[0;34m\u001b[0m\u001b[0m\n",
      "\u001b[0;31mNameError\u001b[0m: name 'X_train' is not defined"
     ]
    }
   ],
   "source": [
    "from sklearn.linear_model import LogisticRegression\n",
    "\n",
    "clf = LogisticRegression(random_state=0)\n",
    "\n",
    "clf.fit(X_train,y_train)\n",
    "\n",
    "lr_predicted = clf.predict(X_test)\n",
    "\n",
    "print(\"Accuracy of Logistic Regression:\", np.mean(predicted.astype(int) == y_test.astype(int)))"
   ]
  },
  {
   "cell_type": "markdown",
   "metadata": {},
   "source": [
    "## Random Forest (≈ 0.41)"
   ]
  },
  {
   "cell_type": "code",
   "execution_count": 40,
   "metadata": {},
   "outputs": [
    {
     "name": "stdout",
     "output_type": "stream",
     "text": [
      "Accuracy of:  0.41487898789878985\n"
     ]
    }
   ],
   "source": [
    "from sklearn.ensemble import RandomForestClassifier\n",
    "\n",
    "clf = RandomForestClassifier(max_depth=2, random_state=0)\n",
    "clf.fit(X_train, y_train)\n",
    "\n",
    "predicted = clf.predict(X_test)\n",
    "print(\"Accuracy of: \", np.mean(predicted.astype(int) == y_test.astype(int)))\n",
    "\n"
   ]
  },
  {
   "cell_type": "markdown",
   "metadata": {},
   "source": [
    "# Principle Component Analysis"
   ]
  },
  {
   "cell_type": "code",
   "execution_count": null,
   "metadata": {},
   "outputs": [],
   "source": []
  }
 ],
 "metadata": {
  "kernelspec": {
   "display_name": "Python 3",
   "language": "python",
   "name": "python3"
  },
  "language_info": {
   "codemirror_mode": {
    "name": "ipython",
    "version": 3
   },
   "file_extension": ".py",
   "mimetype": "text/x-python",
   "name": "python",
   "nbconvert_exporter": "python",
   "pygments_lexer": "ipython3",
   "version": "3.7.6"
  }
 },
 "nbformat": 4,
 "nbformat_minor": 4
}
